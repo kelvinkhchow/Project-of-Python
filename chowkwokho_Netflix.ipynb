{
 "cells": [
  {
   "cell_type": "markdown",
   "metadata": {},
   "source": [
    "# Netflix Stock Price Forecasting Model\n",
    "\n",
    "# Summary\n",
    "\n",
    "The dataset for this project originates from [kaggle](https://www.kaggle.com/datasets/akpmpr/updated-netflix-stock-price-all-time) and contains Netflix daily stock prices between 2002 and 2021.\n",
    "\n",
    "In this project, we will employ Recurrent Neural Network (RNN) and Long Short-Term Memory (LSTM) to predict stock market indices. We are interested in forecasting the 'Close' series.\n",
    "\n",
    "# Load and Exploratore the Data"
   ]
  },
  {
   "cell_type": "code",
   "execution_count": 1,
   "metadata": {},
   "outputs": [],
   "source": [
    "import sys\n",
    "import numpy as np\n",
    "import matplotlib.pyplot as plt\n",
    "import warnings\n",
    "warnings.simplefilter(action='ignore')\n",
    "import pandas as pd\n",
    "from datetime import datetime\n",
    "import tensorflow as tf\n",
    "import keras\n",
    "from keras.models import Sequential\n",
    "from keras.layers import Dense, SimpleRNN, LSTM, Activation, Dropout\n",
    "import math\n",
    "from sklearn.preprocessing import MinMaxScaler\n",
    "from sklearn.metrics import mean_squared_error"
   ]
  },
  {
   "cell_type": "code",
   "execution_count": 2,
   "metadata": {},
   "outputs": [
    {
     "data": {
      "text/html": [
       "<div>\n",
       "<style scoped>\n",
       "    .dataframe tbody tr th:only-of-type {\n",
       "        vertical-align: middle;\n",
       "    }\n",
       "\n",
       "    .dataframe tbody tr th {\n",
       "        vertical-align: top;\n",
       "    }\n",
       "\n",
       "    .dataframe thead th {\n",
       "        text-align: right;\n",
       "    }\n",
       "</style>\n",
       "<table border=\"1\" class=\"dataframe\">\n",
       "  <thead>\n",
       "    <tr style=\"text-align: right;\">\n",
       "      <th></th>\n",
       "      <th>Date</th>\n",
       "      <th>High</th>\n",
       "      <th>Low</th>\n",
       "      <th>Open</th>\n",
       "      <th>Close</th>\n",
       "      <th>Volume</th>\n",
       "      <th>Adj Close</th>\n",
       "    </tr>\n",
       "  </thead>\n",
       "  <tbody>\n",
       "    <tr>\n",
       "      <th>0</th>\n",
       "      <td>2002-05-23</td>\n",
       "      <td>1.242857</td>\n",
       "      <td>1.145714</td>\n",
       "      <td>1.156429</td>\n",
       "      <td>1.196429</td>\n",
       "      <td>104790000.0</td>\n",
       "      <td>1.196429</td>\n",
       "    </tr>\n",
       "    <tr>\n",
       "      <th>1</th>\n",
       "      <td>2002-05-24</td>\n",
       "      <td>1.225000</td>\n",
       "      <td>1.197143</td>\n",
       "      <td>1.214286</td>\n",
       "      <td>1.210000</td>\n",
       "      <td>11104800.0</td>\n",
       "      <td>1.210000</td>\n",
       "    </tr>\n",
       "    <tr>\n",
       "      <th>2</th>\n",
       "      <td>2002-05-28</td>\n",
       "      <td>1.232143</td>\n",
       "      <td>1.157143</td>\n",
       "      <td>1.213571</td>\n",
       "      <td>1.157143</td>\n",
       "      <td>6609400.0</td>\n",
       "      <td>1.157143</td>\n",
       "    </tr>\n",
       "    <tr>\n",
       "      <th>3</th>\n",
       "      <td>2002-05-29</td>\n",
       "      <td>1.164286</td>\n",
       "      <td>1.085714</td>\n",
       "      <td>1.164286</td>\n",
       "      <td>1.103571</td>\n",
       "      <td>6757800.0</td>\n",
       "      <td>1.103571</td>\n",
       "    </tr>\n",
       "    <tr>\n",
       "      <th>4</th>\n",
       "      <td>2002-05-30</td>\n",
       "      <td>1.107857</td>\n",
       "      <td>1.071429</td>\n",
       "      <td>1.107857</td>\n",
       "      <td>1.071429</td>\n",
       "      <td>10154200.0</td>\n",
       "      <td>1.071429</td>\n",
       "    </tr>\n",
       "  </tbody>\n",
       "</table>\n",
       "</div>"
      ],
      "text/plain": [
       "         Date      High       Low      Open     Close       Volume  Adj Close\n",
       "0  2002-05-23  1.242857  1.145714  1.156429  1.196429  104790000.0   1.196429\n",
       "1  2002-05-24  1.225000  1.197143  1.214286  1.210000   11104800.0   1.210000\n",
       "2  2002-05-28  1.232143  1.157143  1.213571  1.157143    6609400.0   1.157143\n",
       "3  2002-05-29  1.164286  1.085714  1.164286  1.103571    6757800.0   1.103571\n",
       "4  2002-05-30  1.107857  1.071429  1.107857  1.071429   10154200.0   1.071429"
      ]
     },
     "execution_count": 2,
     "metadata": {},
     "output_type": "execute_result"
    }
   ],
   "source": [
    "data = pd.read_csv('./netflix.csv',sep=\",\")\n",
    "data.head()"
   ]
  },
  {
   "cell_type": "code",
   "execution_count": 3,
   "metadata": {},
   "outputs": [
    {
     "data": {
      "text/plain": [
       "0"
      ]
     },
     "execution_count": 3,
     "metadata": {},
     "output_type": "execute_result"
    }
   ],
   "source": [
    "data['Close'].isnull().sum()"
   ]
  },
  {
   "cell_type": "code",
   "execution_count": 4,
   "metadata": {},
   "outputs": [
    {
     "data": {
      "text/html": [
       "<div>\n",
       "<style scoped>\n",
       "    .dataframe tbody tr th:only-of-type {\n",
       "        vertical-align: middle;\n",
       "    }\n",
       "\n",
       "    .dataframe tbody tr th {\n",
       "        vertical-align: top;\n",
       "    }\n",
       "\n",
       "    .dataframe thead th {\n",
       "        text-align: right;\n",
       "    }\n",
       "</style>\n",
       "<table border=\"1\" class=\"dataframe\">\n",
       "  <thead>\n",
       "    <tr style=\"text-align: right;\">\n",
       "      <th></th>\n",
       "      <th>Date</th>\n",
       "      <th>Close</th>\n",
       "    </tr>\n",
       "  </thead>\n",
       "  <tbody>\n",
       "    <tr>\n",
       "      <th>2710</th>\n",
       "      <td>2013-02-28</td>\n",
       "      <td>26.868570</td>\n",
       "    </tr>\n",
       "    <tr>\n",
       "      <th>3536</th>\n",
       "      <td>2016-06-09</td>\n",
       "      <td>97.089996</td>\n",
       "    </tr>\n",
       "    <tr>\n",
       "      <th>1581</th>\n",
       "      <td>2008-09-03</td>\n",
       "      <td>4.415714</td>\n",
       "    </tr>\n",
       "    <tr>\n",
       "      <th>1341</th>\n",
       "      <td>2007-09-20</td>\n",
       "      <td>2.782857</td>\n",
       "    </tr>\n",
       "    <tr>\n",
       "      <th>4383</th>\n",
       "      <td>2019-10-21</td>\n",
       "      <td>278.049988</td>\n",
       "    </tr>\n",
       "  </tbody>\n",
       "</table>\n",
       "</div>"
      ],
      "text/plain": [
       "            Date       Close\n",
       "2710  2013-02-28   26.868570\n",
       "3536  2016-06-09   97.089996\n",
       "1581  2008-09-03    4.415714\n",
       "1341  2007-09-20    2.782857\n",
       "4383  2019-10-21  278.049988"
      ]
     },
     "execution_count": 4,
     "metadata": {},
     "output_type": "execute_result"
    }
   ],
   "source": [
    "data = data[['Date', 'Close']]\n",
    "data.sample(5)"
   ]
  },
  {
   "cell_type": "markdown",
   "metadata": {},
   "source": [
    "# Feature Transformation\n",
    "\n",
    "- Replace comma in **Close** column and convert values into float64\n",
    "- Transform **Date** column into a datetime object "
   ]
  },
  {
   "cell_type": "code",
   "execution_count": 5,
   "metadata": {},
   "outputs": [
    {
     "data": {
      "text/plain": [
       "[<matplotlib.lines.Line2D at 0x2201ae954f0>]"
      ]
     },
     "execution_count": 5,
     "metadata": {},
     "output_type": "execute_result"
    },
    {
     "data": {
      "image/png": "[encoded data removed]",
      "text/plain": [
       "<Figure size 432x288 with 1 Axes>"
      ]
     },
     "metadata": {
      "needs_background": "light"
     },
     "output_type": "display_data"
    }
   ],
   "source": [
    "def make_date(row):\n",
    "    return datetime(year = int(row.split('-')[0]), \n",
    "                    month = int(row.split('-')[1]), \n",
    "                    day = int(row.split('-')[2]))\n",
    "\n",
    "data['Date'] = data['Date'].apply(make_date)\n",
    "data.set_index(data.Date,inplace=True)\n",
    "data.drop(columns=['Date'], inplace=True)\n",
    "\n",
    "plt.plot(data, 'm')"
   ]
  },
  {
   "cell_type": "markdown",
   "metadata": {},
   "source": [
    "# Split the Data and Apply Feature Scaling\n",
    "\n",
    "- Split the data into train and test data sets using **timestep = 50 days**\n",
    "- use **MinMaxScaler** to scale the data"
   ]
  },
  {
   "cell_type": "code",
   "execution_count": 6,
   "metadata": {},
   "outputs": [],
   "source": [
    "timesteps = 50"
   ]
  },
  {
   "cell_type": "code",
   "execution_count": 7,
   "metadata": {},
   "outputs": [],
   "source": [
    "train = data[:len(data)-timesteps]['Close'].values\n",
    "test = data[len(train):]['Close'].values\n",
    "train=train.reshape(train.shape[0],1)\n",
    "test=test.reshape(test.shape[0],1)"
   ]
  },
  {
   "cell_type": "code",
   "execution_count": 8,
   "metadata": {},
   "outputs": [],
   "source": [
    "sc = MinMaxScaler(feature_range= (0,1))\n",
    "train = sc.fit_transform(train)"
   ]
  },
  {
   "cell_type": "code",
   "execution_count": 9,
   "metadata": {},
   "outputs": [],
   "source": [
    "train_X = []\n",
    "train_y = []\n",
    "\n",
    "for i in range(timesteps, train.shape[0]):\n",
    "    train_X.append(train[i-timesteps:i,0])\n",
    "    train_y.append(train[i,0])\n",
    "\n",
    "train_X = np.array(train_X)\n",
    "train_X = train_X.reshape(train_X.shape[0], train_X.shape[1], 1)\n",
    "train_y = np.array(train_y)"
   ]
  },
  {
   "cell_type": "code",
   "execution_count": 10,
   "metadata": {},
   "outputs": [
    {
     "name": "stdout",
     "output_type": "stream",
     "text": [
      "Training input shape: (4781, 50, 1)\n",
      "Training output shape: (4781,)\n"
     ]
    }
   ],
   "source": [
    "print('Training input shape: {}'.format(train_X.shape))\n",
    "print('Training output shape: {}'.format(train_y.shape))"
   ]
  },
  {
   "cell_type": "code",
   "execution_count": 11,
   "metadata": {},
   "outputs": [],
   "source": [
    "inputs = data[len(data) - len(test) - timesteps:]\n",
    "inputs = sc.transform(inputs)\n",
    "\n",
    "test_X = []\n",
    "\n",
    "for i in range(timesteps, 100):\n",
    "    test_X.append(inputs[i-timesteps:i,0])\n",
    "\n",
    "test_X = np.array(test_X)\n",
    "test_X = test_X.reshape(test_X.shape[0], test_X.shape[1], 1)"
   ]
  },
  {
   "cell_type": "code",
   "execution_count": 12,
   "metadata": {},
   "outputs": [
    {
     "data": {
      "text/plain": [
       "(50, 50, 1)"
      ]
     },
     "execution_count": 12,
     "metadata": {},
     "output_type": "execute_result"
    }
   ],
   "source": [
    "test_X.shape"
   ]
  },
  {
   "cell_type": "markdown",
   "metadata": {},
   "source": [
    "# Train models\n",
    "\n",
    "- Simple **RNN** layers each with 50 hidden units and tanh activation function per cell\n",
    "- **LSTM** with 70 hidden units per cell\n",
    "- Define the loss function and optimizer strategy\n",
    "- Fit the model with 100 epochs\n",
    "- Predict and plot the results \n",
    "\n",
    "## RNN"
   ]
  },
  {
   "cell_type": "code",
   "execution_count": 13,
   "metadata": {},
   "outputs": [
    {
     "data": {
      "text/plain": [
       "<keras.callbacks.History at 0x2201cbf0fa0>"
      ]
     },
     "execution_count": 13,
     "metadata": {},
     "output_type": "execute_result"
    }
   ],
   "source": [
    "model_RNN = Sequential() \n",
    "\n",
    "model_RNN.add(SimpleRNN(50, activation='tanh',\n",
    "                    input_shape=(train_X.shape[1],1), return_sequences = True))\n",
    "model_RNN.add(Dropout(0.2))\n",
    "model_RNN.add(SimpleRNN(50, activation='tanh', return_sequences = True,))\n",
    "model_RNN.add(Dropout(0.2))\n",
    "model_RNN.add(SimpleRNN(50, activation='tanh', return_sequences = True,))\n",
    "model_RNN.add(Dropout(0.2))\n",
    "model_RNN.add(SimpleRNN(50, activation='tanh'))\n",
    "# output layer to make final predictions \n",
    "model_RNN.add(Dense(1))\n",
    "\n",
    "model_RNN.compile(loss='mean_squared_error', optimizer='adam')\n",
    "model_RNN.fit(train_X, train_y, epochs=100, batch_size=32, verbose=0)"
   ]
  },
  {
   "cell_type": "code",
   "execution_count": 14,
   "metadata": {},
   "outputs": [
    {
     "data": {
      "image/png": "[encoded data removed]",
      "text/plain": [
       "<Figure size 640x320 with 1 Axes>"
      ]
     },
     "metadata": {},
     "output_type": "display_data"
    }
   ],
   "source": [
    "predicted_RNN = model_RNN.predict(test_X)\n",
    "predicted_RNN = sc.inverse_transform(predicted_RNN)\n",
    "\n",
    "plt.figure(figsize=(8,4), dpi=80, facecolor='w', edgecolor='k')\n",
    "plt.plot(test,color=\"red\",label=\"Real price\")\n",
    "plt.plot(predicted_RNN,color=\"c\",label=\"RNN predicted result\")\n",
    "plt.legend()\n",
    "plt.grid(True)\n",
    "plt.show()"
   ]
  },
  {
   "cell_type": "markdown",
   "metadata": {},
   "source": [
    "## LSTM"
   ]
  },
  {
   "cell_type": "code",
   "execution_count": 15,
   "metadata": {},
   "outputs": [
    {
     "data": {
      "text/plain": [
       "<keras.callbacks.History at 0x22022678b80>"
      ]
     },
     "execution_count": 15,
     "metadata": {},
     "output_type": "execute_result"
    }
   ],
   "source": [
    "model_LSTM = Sequential() \n",
    "model_LSTM.add(LSTM(70, input_shape=(train_X.shape[1],1)))\n",
    "model_LSTM.add(Dense(1))\n",
    "\n",
    "model_LSTM.compile(loss='mean_squared_error', optimizer='adam')\n",
    "model_LSTM.fit(train_X, train_y, epochs=100, batch_size=32, verbose=0)"
   ]
  },
  {
   "cell_type": "code",
   "execution_count": 16,
   "metadata": {},
   "outputs": [
    {
     "data": {
      "image/png": "[encoded data removed]",
      "text/plain": [
       "<Figure size 640x320 with 1 Axes>"
      ]
     },
     "metadata": {},
     "output_type": "display_data"
    }
   ],
   "source": [
    "predicted_LSTM = model_LSTM.predict(test_X)\n",
    "predicted_LSTM = sc.inverse_transform(predicted_LSTM)\n",
    "\n",
    "plt.figure(figsize=(8,4), dpi=80, facecolor='w', edgecolor='k')\n",
    "plt.plot(test,color=\"red\",label=\"Real price\")\n",
    "plt.plot(predicted_LSTM,color=\"c\",label=\"LSTM Predictions\")\n",
    "plt.legend()\n",
    "plt.grid(True)\n",
    "plt.show()"
   ]
  },
  {
   "cell_type": "code",
   "execution_count": 17,
   "metadata": {},
   "outputs": [
    {
     "name": "stdout",
     "output_type": "stream",
     "text": [
      "Model: \"sequential\"\n",
      "_________________________________________________________________\n",
      " Layer (type)                Output Shape              Param #   \n",
      "=================================================================\n",
      " simple_rnn (SimpleRNN)      (None, 50, 50)            2600      \n",
      "                                                                 \n",
      " dropout (Dropout)           (None, 50, 50)            0         \n",
      "                                                                 \n",
      " simple_rnn_1 (SimpleRNN)    (None, 50, 50)            5050      \n",
      "                                                                 \n",
      " dropout_1 (Dropout)         (None, 50, 50)            0         \n",
      "                                                                 \n",
      " simple_rnn_2 (SimpleRNN)    (None, 50, 50)            5050      \n",
      "                                                                 \n",
      " dropout_2 (Dropout)         (None, 50, 50)            0         \n",
      "                                                                 \n",
      " simple_rnn_3 (SimpleRNN)    (None, 50)                5050      \n",
      "                                                                 \n",
      " dense (Dense)               (None, 1)                 51        \n",
      "                                                                 \n",
      "=================================================================\n",
      "Total params: 17,801\n",
      "Trainable params: 17,801\n",
      "Non-trainable params: 0\n",
      "_________________________________________________________________\n"
     ]
    }
   ],
   "source": [
    "# RNN structure\n",
    "model_RNN.summary()"
   ]
  },
  {
   "cell_type": "code",
   "execution_count": 18,
   "metadata": {},
   "outputs": [
    {
     "name": "stdout",
     "output_type": "stream",
     "text": [
      "Model: \"sequential_1\"\n",
      "_________________________________________________________________\n",
      " Layer (type)                Output Shape              Param #   \n",
      "=================================================================\n",
      " lstm (LSTM)                 (None, 70)                20160     \n",
      "                                                                 \n",
      " dense_1 (Dense)             (None, 1)                 71        \n",
      "                                                                 \n",
      "=================================================================\n",
      "Total params: 20,231\n",
      "Trainable params: 20,231\n",
      "Non-trainable params: 0\n",
      "_________________________________________________________________\n"
     ]
    }
   ],
   "source": [
    "# LSTM structure\n",
    "model_LSTM.summary()"
   ]
  },
  {
   "cell_type": "markdown",
   "metadata": {},
   "source": [
    "# Results\n",
    "\n",
    "If we compare the model summary for **Simple RNN** with the model summary for **LSTM**, we can see that there are more trainable parameters for the **LSTM**, which explains why it took a longer time to train this model.\n",
    "\n",
    "Overall the plots show that our **LSTM** model with a less complex structure still performed better than our Simple RNN.  The latter one predict very weak."
   ]
  },
  {
   "cell_type": "markdown",
   "metadata": {},
   "source": [
    "# Next Steps\n",
    "\n",
    "To improve the quality of forecasts over many time steps, we'd need to use more data and more sophisticated LSTM model structures. We could try training with more data or increasing cell_units and running more training epochs."
   ]
  }
 ],
 "metadata": {
  "kernelspec": {
   "display_name": "Python 3 (ipykernel)",
   "language": "python",
   "name": "python3"
  },
  "language_info": {
   "codemirror_mode": {
    "name": "ipython",
    "version": 3
   },
   "file_extension": ".py",
   "mimetype": "text/x-python",
   "name": "python",
   "nbconvert_exporter": "python",
   "pygments_lexer": "ipython3",
   "version": "3.9.12"
  }
 },
 "nbformat": 4,
 "nbformat_minor": 4
}
